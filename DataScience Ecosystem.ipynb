{
"metadata":{"kernelspec":{"name":"python","display_name":"Python (Pyodide)","language":"python"}
,
"language_info":{"codemirror_mode":{"name":"python","version":3},
"":".py",
"mimetype":"text/x-python","name":"python","nbconvert_exporter":"python","pygments_lexer":"ipython3","version":"3.8"}},"nbformat_minor":4,"nbformat":4,
"cells":[
{
"cell_type":"markdown",
"source":
"<center>\n   
"metadata":{}
},
{
{
"cell_type":"markdown",
"source":"",
"metadata":{}
},
{
"cell_type":"code",
"source":"",
"metadata":{"trusted":true},"outputs":[],"execution_count":null}
,
{
"cell_type":"markdown","source":"**Exercise 2 - Create a markdown cell with the title of the notebook.(1 pt)**",
"metadata":{}
},
{
"cell_type":"markdown",
"source":"<H1>Data Science Tools and Ecosystem<H1>"
,
"metadata":{}
},
{
"cell_type":"markdown",
"source":"**Exercise 3 - Create a markdown cell for an introduction**"
,
"metadata":{},
"attachments":{}
},
{
"cell_type":"markdown",
"source":"In this notebook data science and tools are summarized.",
"metadata":{}
},
{
"cell_type":"markdown",
"source":"**Objectives**",
"metadata":{}
},
{
"cell_type":"markdown",
"source":
"<li>List mostly versatile languages that Data Scientists use.</li>\n
<li>List frequently used libraries used by Data Scientists.</li>\n
<li>Monitoring the uses of Data Science tools.</li>"
,
"metadata":{}
},
{
"cell_type":"markdown",
"source":"**Exercise 4 - Create a markdown cell to list Data Science Languages**","metadata":{}
},
{
"cell_type":"markdown",
"source":"Some of the versatile languages that Data Scientists use are:\n\n1. Python\n2. R\n3. C++\n4. Java\n5. JavaScript"
,
"metadata":{"tags":[],"editable":true,"slideshow":{"slide_type":""}
}
},
{
"cell_type":"markdown",
"source":"**Exercise 5 - Create a markdown cell to list Data Science Libraries**",
"metadata":{}
},
{
"cell_type":"markdown",
"source":"Some of the commonly used libraries that Data Scientists use are:\n\n1. NumPy\n2. SciPy\n3. PyTorch\n4. Seaborn\n5. Pandas\n6. Matplotlib",
"metadata":{"tags":[],"editable":true,"slideshow":{"slide_type":""}}
},
{
"cell_type":"markdown","source":"**Exercise 6 - Create a markdown cell with a table of Data Science tools**",
"metadata":{}
},
{
"cell_type":"markdown","source":"Data Science Tools are mentioned below:",
"metadata":{}
},
{
"cell_type":"markdown",
"source":"|Data Science Tools|\n|-----|\n| Apache Spark |\n| Tensor Flow | \n|Matlab|",
"metadata":{}
},
{
"cell_type":"markdown",
"source":"",
"metadata":{}
},
{
"cell_type":"markdown",
"source":"**Exercise 7 - Create a markdown cell introducing arithmetic expression examples**",
"metadata":{}
},
{
"cell_type":"markdown","source":"<H3>Below are a few examples of evaluating arithmetic expressions in Python<H3>",
"metadata":{"scrolled":true}
},
{
"cell_type":"code",
"source":"#This a simple arithmetic expression to multiply then add integers\n(3*4)+5",
"metadata":{"scrolled":true,"trusted":true},"outputs":[{"execution_count":15,"output_type":"execute_result","data":{"text/plain":"17"},"metadata":{}
}
],
"execution_count":15},
{
"cell_type":"code",
"source":"#Another example of arithmetic operations\n9*2",
"metadata":{"scrolled":true,"trusted":true},
"outputs":
[
{
"execution_count":1,"output_type":"execute_result","data":{
"text/plain":"18"
},
"metadata":{}
}
],
"execution_count":16
},
{
"cell_type":"code","source":"#This will convert 200 minutes to hours\ntime_minutes=200\nhours=time_minutes/60\nprint(str(hours))",
"metadata":{"scrolled":true,"trusted":true
},
"outputs":
[
{"name":"stdout","text":"3.3333333333333335\n","output_type":"stream"
}
],
"execution_count":20
},
{
"cell_type":"markdown",
"source":"**Objectives**","metadata":{},
"attachments":{}
},
{
"cell_type":"markdown",
"source":
"<li>List mostly popular languages that Data Scientists use.</li>\n
<li>List frequently used libraries used by Data Scientists.</li>\n
<li>Monitoring the uses of Data Science tools.</li>\n
<li>Roles performed by Data Science tools.</li>\n",
"metadata":{}
},
{
"cell_type":"markdown",
"source":"<H2>Author</H2>"
,"metadata":{}
},
{
"cell_type":"markdown",
"source":"Cyan Mukherjee",
"metadata":{}
},
{
"cell_type":"code",
"source":"",
"metadata":{"trusted":true},"outputs":[],"execution_count":null}
]
}
